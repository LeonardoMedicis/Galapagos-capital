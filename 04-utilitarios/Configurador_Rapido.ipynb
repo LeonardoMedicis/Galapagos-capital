{
 "cells": [
  {
   "cell_type": "markdown",
   "metadata": {},
   "source": [
    "# 🔧 Configurador Rápido - Galapagos DTVM\\n",
    "\\n",
    "Este notebook configura **TUDO** automaticamente em poucos minutos!\\n",
    "\\n",
    "## 🎯 O que este notebook faz:\\n",
    "- ✅ Detecta ambiente automaticamente\\n",
    "- ✅ Instala todas as dependências\\n",
    "- ✅ Configura estrutura de pastas\\n",
    "- ✅ Testa se tudo está funcionando\\n",
    "- ✅ Inicia dashboard automaticamente\\n",
    "\\n",
    "**📋 Instruções:** Execute as células em ordem (Shift + Enter)"
   ]
  },
  {
   "cell_type": "markdown",
   "metadata": {},
   "source": [
    "## 🚀 1. Setup completo automático"
   ]
  },
  {
   "cell_type": "code",
   "execution_count": null,
   "metadata": {},
   "outputs": [],
   "source": [
    "import os\\n",
    "import sys\\n",
    "import subprocess\\n",
    "from pathlib import Path\\n",
    "import importlib\\n",
    "\\n",
    "print(\\"🚀 CONFIGURADOR RÁPIDO - GALAPAGOS DTVM\\")\\n",
    "print(\\"=\\" * 50)\\n",
    "\\n",
    "def executar_comando(comando, descricao):\\n",
    "    \\"\\"\\"Executa comando e mostra resultado.\\"\\"\\"\\n",
    "    print(f\\"🔄 {descricao}...\\")\\n",
    "    try:\\n",
    "        if isinstance(comando, list):\\n",
    "            result = subprocess.run(comando, capture_output=True, text=True, check=True)\\n",
    "        else:\\n",
    "            result = subprocess.run(comando, shell=True, capture_output=True, text=True, check=True)\\n",
    "        print(f\\"✅ {descricao} - SUCESSO\\")\\n",
    "        return True\\n",
    "    except subprocess.CalledProcessError as e:\\n",
    "        print(f\\"❌ {descricao} - ERRO: {e}\\")\\n",
    "        return False\\n",
    "\\n",
    "# 1. Verificar Python\\n",
    "print(f\\"🐍 Python: {sys.version.split()[0]}\\")\\n",
    "\\n",
    "# 2. Instalar dependências\\n",
    "dependencias = ['flask', 'flask-cors', 'requests', 'python-dateutil']\\n",
    "for dep in dependencias:\\n",
    "    executar_comando([sys.executable, \\"-m\\", \\"pip\\", \\"install\\", dep], f\\"Instalando {dep}\\")\\n",
    "\\n",
    "print(\\"\\\\n✅ DEPENDÊNCIAS INSTALADAS!\\\")"
   ]
  },
  {
   "cell_type": "markdown",
   "metadata": {},
   "source": [
    "## 🔍 2. Detectar e configurar ambiente"
   ]
  },
  {
   "cell_type": "code",
   "execution_count": null,
   "metadata": {},
   "outputs": [],
   "source": [
    "# Executar configuração de ambiente\\n",
    "config_path = Path(\\"../01-configuracao-ambiente/configurar_ambiente.py\\")\\n",
    "\\n",
    "if config_path.exists():\\n",
    "    print(\\"🔧 Executando configuração de ambiente...\\")\\n",
    "    os.chdir(config_path.parent)\\n",
    "    result = subprocess.run([sys.executable, \\"configurar_ambiente.py\\"], \\n",
    "                          capture_output=True, text=True)\\n",
    "    \\n",
    "    if result.returncode == 0:\\n",
    "        print(\\"✅ AMBIENTE CONFIGURADO!\\")\\n",
    "        print(result.stdout)\\n",
    "    else:\\n",
    "        print(\\"❌ Erro na configuração:\\")\\n",
    "        print(result.stderr)\\n",
    "else:\\n",
    "    print(\\"⚠️ Arquivo de configuração não encontrado\\")\\n",
    "    print(\\"📁 Certifique-se de estar na pasta correta do projeto\\")\\n",
    "\\n",
    "# Voltar para pasta original\\n",
    "os.chdir(Path.cwd().parent)"
   ]
  },
  {
   "cell_type": "markdown",
   "metadata": {},
   "source": [
    "## 🧪 3. Testar sistema"
   ]
  },
  {
   "cell_type": "code",
   "execution_count": null,
   "metadata": {},
   "outputs": [],
   "source": [
    "import json\\n",
    "\\n",
    "print(\\"🧪 TESTANDO SISTEMA...\\")\\n",
    "print(\\"=\\" * 30)\\n",
    "\\n",
    "# Verificar configuração\\n",
    "config_file = Path(\\"../config_ambiente.json\\")\\n",
    "if config_file.exists():\\n",
    "    print(\\"✅ Arquivo de configuração encontrado\\")\\n",
    "    with open(config_file, 'r', encoding='utf-8') as f:\\n",
    "        config = json.load(f)\\n",
    "    print(f\\"🎯 Ambiente: {config['environment'].upper()}\\")\\n",
    "else:\\n",
    "    print(\\"❌ Arquivo de configuração não encontrado\\")\\n",
    "\\n",
    "# Verificar estrutura\\n",
    "pastas_necessarias = [\\n",
    "    \\"../01-configuracao-ambiente\\",\\n",
    "    \\"../02-dashboard-principal\\",\\n",
    "    \\"../03-modulos-conciliacao\\",\\n",
    "    \\"../04-utilitarios\\",\\n",
    "    \\"../05-documentacao\\"\\n",
    "]\\n",
    "\\n",
    "for pasta in pastas_necessarias:\\n",
    "    if Path(pasta).exists():\\n",
    "        print(f\\"✅ {pasta}\\")\\n",
    "    else:\\n",
    "        print(f\\"❌ {pasta} - NÃO ENCONTRADA\\")\\n",
    "\\n",
    "# Verificar dependências\\n",
    "deps_teste = ['flask', 'flask_cors', 'requests']\\n",
    "for dep in deps_teste:\\n",
    "    try:\\n",
    "        importlib.import_module(dep)\\n",
    "        print(f\\"✅ {dep} importado com sucesso\\")\\n",
    "    except ImportError:\\n",
    "        print(f\\"❌ {dep} não encontrado\\")\\n",
    "\\n",
    "print(\\"\\\\n✅ TESTES CONCLUÍDOS!\\")"
   ]
  },
  {
   "cell_type": "markdown",
   "metadata": {},
   "source": [
    "## 🌐 4. Iniciar dashboard (opcional)"
   ]
  },
  {
   "cell_type": "code",
   "execution_count": null,
   "metadata": {},
   "outputs": [],
   "source": [
    "import webbrowser\\n",
    "import threading\\n",
    "import time\\n",
    "\\n",
    "resposta = input(\\"🚀 Deseja iniciar o dashboard agora? (s/n): \\")\\n",
    "\\n",
    "if resposta.lower() in ['s', 'sim', 'y', 'yes']:\\n",
    "    print(\\"🌐 Iniciando dashboard...\\")\\n",
    "    \\n",
    "    # Ir para pasta do dashboard\\n",
    "    dashboard_path = Path(\\"../02-dashboard-principal\\")\\n",
    "    if dashboard_path.exists():\\n",
    "        os.chdir(dashboard_path)\\n",
    "        \\n",
    "        # Executar dashboard\\n",
    "        print(\\"📍 URL: http://localhost:5000\\")\\n",
    "        print(\\"⏹️ Para parar: Kernel > Interrupt\\")\\n",
    "        \\n",
    "        # Abrir navegador após delay\\n",
    "        def abrir_navegador():\\n",
    "            time.sleep(3)\\n",
    "            webbrowser.open(\\"http://localhost:5000\\")\\n",
    "        \\n",
    "        threading.Thread(target=abrir_navegador, daemon=True).start()\\n",
    "        \\n",
    "        # Executar dashboard\\n",
    "        subprocess.run([sys.executable, \\"executar_dashboard_adaptavel.py\\"])\\n",
    "    else:\\n",
    "        print(\\"❌ Pasta do dashboard não encontrada\\")\\n",
    "else:\\n",
    "    print(\\"👍 Dashboard não iniciado\\")\\n",
    "    print(\\"💡 Para iniciar depois, execute o notebook da pasta 02-dashboard-principal\\")"
   ]
  },
  {
   "cell_type": "markdown",
   "metadata": {},
   "source": [
    "## 🎉 Configuração Concluída!\\n",
    "\\n",
    "Se chegou até aqui, o sistema está **100% configurado e funcionando**!\\n",
    "\\n",
    "### 🎯 Próximos passos:\\n",
    "1. **Dashboard Principal:** Pasta `02-dashboard-principal`\\n",
    "2. **Módulos de Conciliação:** Pasta `03-modulos-conciliacao`\\n",
    "3. **Utilitários:** Pasta `04-utilitarios`\\n",
    "4. **Documentação:** Pasta `05-documentacao`\\n",
    "\\n",
    "### 🔗 Links úteis:\\n",
    "- **Dashboard:** http://localhost:5000 (se iniciado)\\n",
    "- **Configuração:** `../config_ambiente.json`\\n",
    "- **Logs:** Pasta configurada no ambiente\\n",
    "\\n",
    "### 💡 Dicas:\\n",
    "- Execute este notebook sempre que precisar reconfigurar\\n",
    "- Use outros utilitários para tarefas específicas\\n",
    "- Consulte a documentação para detalhes\\n",
    "\\n",
    "**🚀 Sistema Galapagos DTVM pronto para uso!**"
   ]
  }
 ],
 "metadata": {
  "kernelspec": {
   "display_name": "Python 3",
   "language": "python",
   "name": "python3"
  },
  "language_info": {
   "codemirror_mode": {
    "name": "ipython",
    "version": 3
   },
   "file_extension": ".py",
   "mimetype": "text/x-python",
   "name": "python",
   "nbconvert_exporter": "python",
   "pygments_lexer": "ipython3",
   "version": "3.8.0"
  }
 },
 "nbformat": 4,
 "nbformat_minor": 4
}

