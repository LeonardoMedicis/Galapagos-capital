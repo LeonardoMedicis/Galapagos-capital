{
 "cells": [
  {
   "cell_type": "markdown",
   "metadata": {},
   "source": [
    "# 📊 Dashboard Principal - Galapagos DTVM\n",
    "\n",
    "Este notebook executa o dashboard web principal do sistema de conciliações.\n",
    "\n",
    "## 🎯 O que este notebook faz:\n",
    "- ✅ Inicia servidor web Flask\n",
    "- ✅ Abre dashboard no navegador automaticamente\n",
    "- ✅ Configura ambiente automaticamente\n",
    "- ✅ Monitora conciliações em tempo real\n",
    "\n",
    "**📋 Instruções:** Execute as células em ordem (Shift + Enter)"
   ]
  },
  {
   "cell_type": "markdown",
   "metadata": {},
   "source": [
    "## 📦 1. Verificar e instalar dependências"
   ]
  },
  {
   "cell_type": "code",
   "execution_count": null,
   "metadata": {},
   "outputs": [],
   "source": [
    "import sys\n",
    "import subprocess\n",
    "import importlib\n",
    "\n",
    "def instalar_se_necessario(pacote):\n",
    "    try:\n",
    "        importlib.import_module(pacote)\n",
    "        print(f\"✅ {pacote} já instalado\")\n",
    "        return True\n",
    "    except ImportError:\n",
    "        print(f\"📦 Instalando {pacote}...\")\n",
    "        subprocess.check_call([sys.executable, \"-m\", \"pip\", \"install\", pacote])\n",
    "        print(f\"✅ {pacote} instalado com sucesso\")\n",
    "        return True\n",
    "\n",
    "# Verificar e instalar dependências\n",
    "dependencias = ['flask', 'flask_cors']\n",
    "\n",
    "print(\"🔍 Verificando dependências...\")\n",
    "for dep in dependencias:\n",
    "    instalar_se_necessario(dep)\n",
    "\n",
    "print(\"\\n✅ Todas as dependências estão prontas!\")"
   ]
  },
  {
   "cell_type": "markdown",
   "metadata": {},
   "source": [
    "## 🚀 2. Executar Dashboard Demo"
   ]
  },
  {
   "cell_type": "code",
   "execution_count": null,
   "metadata": {},
   "outputs": [],
   "source": [
    "import os\n",
    "import webbrowser\n",
    "import threading\n",
    "import time\n",
    "\n",
    "def abrir_navegador():\n",
    "    time.sleep(3)\n",
    "    webbrowser.open(\"http://localhost:5000\")\n",
    "\n",
    "print(\"🚀 Iniciando Dashboard Galapagos DTVM...\")\n",
    "print(\"📍 URL: http://localhost:5000\")\n",
    "print(\"⏹️ Para parar: Kernel > Interrupt\")\n",
    "print(\"=\"*50)\n",
    "\n",
    "# Abrir navegador em thread separada\n",
    "threading.Thread(target=abrir_navegador, daemon=True).start()\n",
    "\n",
    "# Executar dashboard demo\n",
    "exec(open('dashboard_demo.py').read())"
   ]
  },
  {
   "cell_type": "markdown",
   "metadata": {},
   "source": [
    "## 📋 3. Informações do Sistema\n",
    "\n",
    "### 🎯 Funcionalidades do Dashboard:\n",
    "- **Métricas em tempo real** das conciliações\n",
    "- **Controles de execução** por módulo ou categoria\n",
    "- **Status visual** com cores e ícones\n",
    "- **Interface responsiva** para qualquer dispositivo\n",
    "\n",
    "### 🔧 Como usar:\n",
    "1. Execute a célula acima\n",
    "2. Aguarde o navegador abrir automaticamente\n",
    "3. Explore os botões e funcionalidades\n",
    "4. Para parar: Kernel > Interrupt\n",
    "\n",
    "### 📊 Para apresentação aos gestores:\n",
    "- Destaque a **redução de tempo** (30 min → 2.3s)\n",
    "- Mostre a **interface profissional** e moderna\n",
    "- Demonstre os **controles intuitivos**\n",
    "- Enfatize a **escalabilidade** do sistema"
   ]
  }
 ],
 "metadata": {
  "kernelspec": {
   "display_name": "Python 3",
   "language": "python",
   "name": "python3"
  },
  "language_info": {
   "codemirror_mode": {
    "name": "ipython",
    "version": 3
   },
   "file_extension": ".py",
   "mimetype": "text/x-python",
   "name": "python",
   "nbconvert_exporter": "python",
   "pygments_lexer": "ipython3",
   "version": "3.8.0"
  }
 },
 "nbformat": 4,
 "nbformat_minor": 4
}

