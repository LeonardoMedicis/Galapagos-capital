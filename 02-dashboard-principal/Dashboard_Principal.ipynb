{
 "cells": [
  {
   "cell_type": "markdown",
   "metadata": {},
   "source": [
    "# 📊 Dashboard Principal - Galapagos DTVM\\n",
    "\\n",
    "Este notebook executa o dashboard web principal do sistema de conciliações.\\n",
    "\\n",
    "## 🎯 O que este notebook faz:\\n",
    "- ✅ Inicia servidor web Flask\\n",
    "- ✅ Abre dashboard no navegador automaticamente\\n",
    "- ✅ Configura ambiente automaticamente\\n",
    "- ✅ Monitora conciliações em tempo real\\n",
    "\\n",
    "**📋 Instruções:** Execute as células em ordem (Shift + Enter)"
   ]
  },
  {
   "cell_type": "markdown",
   "metadata": {},
   "source": [
    "## 📦 1. Verificar dependências"
   ]
  },
  {
   "cell_type": "code",
   "execution_count": null,
   "metadata": {},
   "outputs": [],
   "source": [
    "import sys\\n",
    "import subprocess\\n",
    "import importlib\\n",
    "\\n",
    "def instalar_se_necessario(pacote):\\n",
    "    try:\\n",
    "        importlib.import_module(pacote)\\n",
    "        print(f\\"✅ {pacote} já instalado\\")\\n",
    "        return True\\n",
    "    except ImportError:\\n",
    "        print(f\\"📦 Instalando {pacote}...\\")\\n",
    "        subprocess.check_call([sys.executable, \\"-m\\", \\"pip\\", \\"install\\", pacote])\\n",
    "        print(f\\"✅ {pacote} instalado com sucesso\\")\\n",
    "        return True\\n",
    "\\n",
    "# Verificar e instalar dependências\\n",
    "dependencias = ['flask', 'flask_cors']\\n",
    "\\n",
    "print(\\"🔍 Verificando dependências...\\")\\n",
    "for dep in dependencias:\\n",
    "    instalar_se_necessario(dep)\\n",
    "\\n",
    "print(\\"\\\\n✅ Todas as dependências estão prontas!\\")"
   ]
  },
  {
   "cell_type": "markdown",
   "metadata": {},
   "source": [
    "## 🚀 2. Executar Dashboard"
   ]
  },
  {
   "cell_type": "code",
   "execution_count": null,
   "metadata": {},
   "outputs": [],
   "source": [
    "# Executar dashboard diretamente\\n",
    "import os\\n",
    "import webbrowser\\n",
    "import threading\\n",
    "import time\\n",
    "\\n",
    "def abrir_navegador():\\n",
    "    time.sleep(3)\\n",
    "    webbrowser.open(\\"http://localhost:5000\\")\\n",
    "\\n",
    "print(\\"🚀 Iniciando Dashboard Galapagos DTVM...\\")\\n",
    "print(\\"📍 URL: http://localhost:5000\\")\\n",
    "print(\\"⏹️ Para parar: Kernel > Interrupt\\")\\n",
    "\\n",
    "# Abrir navegador em thread separada\\n",
    "threading.Thread(target=abrir_navegador, daemon=True).start()\\n",
    "\\n",
    "# Executar script do dashboard\\n",
    "os.system(\\"python executar_dashboard_adaptavel.py\\")"
   ]
  }
 ],
 "metadata": {
  "kernelspec": {
   "display_name": "Python 3",
   "language": "python",
   "name": "python3"
  },
  "language_info": {
   "codemirror_mode": {
    "name": "ipython",
    "version": 3
   },
   "file_extension": ".py",
   "mimetype": "text/x-python",
   "name": "python",
   "nbconvert_exporter": "python",
   "pygments_lexer": "ipython3",
   "version": "3.8.0"
  }
 },
 "nbformat": 4,
 "nbformat_minor": 4
}

